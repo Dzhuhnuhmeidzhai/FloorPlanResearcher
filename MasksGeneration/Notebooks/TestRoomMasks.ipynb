{
 "cells": [
  {
   "cell_type": "code",
   "execution_count": null,
   "metadata": {},
   "outputs": [],
   "source": [
    "import sys\n",
    "sys.path.append('drive/My Drive/CCTech/MasksGeneration/Scripts/')\n",
    "import getTestImages\n",
    "from getTestImages import *\n",
    "import getRoomMasks\n",
    "from getRoomMasks import *\n",
    "import saveRoomMasks\n",
    "from saveRoomMasks import *"
   ]
  },
  {
   "cell_type": "code",
   "execution_count": null,
   "metadata": {},
   "outputs": [],
   "source": [
    "!unzip \"drive/My Drive/CCTech/Train.zip\" -d Train\n",
    "!unzip \"drive/My Drive/CCTech/Test.zip\" -d Test"
   ]
  },
  {
   "cell_type": "code",
   "execution_count": null,
   "metadata": {},
   "outputs": [],
   "source": [
    "def runner():\n",
    "  i_i, w_i, dw_i, r_i = getTestImages()\n",
    "  print(\"Generating test room masks...\")\n",
    "  rmasks = getRoomMasks(r_i)\n",
    "  im_path = \"drive/My Drive/CCTech/ResizedInputsAndTargets/Test/Rooms/\"\n",
    "  ar_path = \"drive/My Drive/CCTech/MasksGeneration/Masks/\"\n",
    "  print(\"Saving test room masks...\")\n",
    "  saveRoomMasks(rmasks,ar_path,im_path,False)"
   ]
  },
  {
   "cell_type": "code",
   "execution_count": null,
   "metadata": {},
   "outputs": [],
   "source": [
    "runner()"
   ]
  }
 ],
 "metadata": {
  "kernelspec": {
   "display_name": "Python 3",
   "language": "python",
   "name": "python3"
  },
  "language_info": {
   "codemirror_mode": {
    "name": "ipython",
    "version": 3
   },
   "file_extension": ".py",
   "mimetype": "text/x-python",
   "name": "python",
   "nbconvert_exporter": "python",
   "pygments_lexer": "ipython3",
   "version": "3.7.3"
  }
 },
 "nbformat": 4,
 "nbformat_minor": 2
}
