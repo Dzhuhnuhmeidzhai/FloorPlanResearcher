{
  "nbformat": 4,
  "nbformat_minor": 0,
  "metadata": {
    "colab": {
      "name": "CombineTrainTargets.ipynb",
      "provenance": [],
      "collapsed_sections": []
    },
    "kernelspec": {
      "name": "python3",
      "display_name": "Python 3"
    }
  },
  "cells": [
    {
      "cell_type": "code",
      "metadata": {
        "id": "Z9rV_c3WwNiz",
        "colab_type": "code",
        "colab": {}
      },
      "source": [
        "import numpy as np"
      ],
      "execution_count": 1,
      "outputs": []
    },
    {
      "cell_type": "code",
      "metadata": {
        "id": "fEIWJIZ0wQPy",
        "colab_type": "code",
        "colab": {}
      },
      "source": [
        "train_target1 = np.load('drive/My Drive/CCTech/MasksGeneration/Masks/train_bmasks.npy')\n",
        "train_target2 = np.load('drive/My Drive/CCTech/MasksGeneration/Masks/train_rmasks.npy')"
      ],
      "execution_count": 2,
      "outputs": []
    },
    {
      "cell_type": "code",
      "metadata": {
        "id": "DujxcVL-wlKl",
        "colab_type": "code",
        "colab": {
          "base_uri": "https://localhost:8080/",
          "height": 52
        },
        "outputId": "1155710f-ed1a-4028-e054-a3da233242f2"
      },
      "source": [
        "train_target = []\n",
        "for i in range(len(train_target1)):\n",
        "  a = np.concatenate((train_target1[i],train_target2[i]),axis=-1)\n",
        "  train_target.append(a)\n",
        "print(len(train_target))\n",
        "print(train_target[0].shape)"
      ],
      "execution_count": 3,
      "outputs": [
        {
          "output_type": "stream",
          "text": [
            "179\n",
            "(1, 512, 512, 11)\n"
          ],
          "name": "stdout"
        }
      ]
    },
    {
      "cell_type": "code",
      "metadata": {
        "id": "pZNwk9qUxh6k",
        "colab_type": "code",
        "colab": {}
      },
      "source": [
        "np.save('drive/My Drive/CCTech/MasksGeneration/Masks/train_target.npy',train_target)"
      ],
      "execution_count": 4,
      "outputs": []
    },
    {
      "cell_type": "code",
      "metadata": {
        "id": "QypUlmWOxUZi",
        "colab_type": "code",
        "colab": {}
      },
      "source": [
        ""
      ],
      "execution_count": null,
      "outputs": []
    }
  ]
}