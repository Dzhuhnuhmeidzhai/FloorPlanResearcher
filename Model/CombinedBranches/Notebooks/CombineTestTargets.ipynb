{
  "nbformat": 4,
  "nbformat_minor": 0,
  "metadata": {
    "colab": {
      "name": "CombineTestTargets.ipynb",
      "provenance": []
    },
    "kernelspec": {
      "name": "python3",
      "display_name": "Python 3"
    }
  },
  "cells": [
    {
      "cell_type": "code",
      "metadata": {
        "id": "yr0tNbi20k-X",
        "colab_type": "code",
        "colab": {}
      },
      "source": [
        "import numpy as np"
      ],
      "execution_count": 1,
      "outputs": []
    },
    {
      "cell_type": "code",
      "metadata": {
        "id": "OOGxQnR_0oYr",
        "colab_type": "code",
        "colab": {}
      },
      "source": [
        "test_target1 = np.load('drive/My Drive/CCTech/MasksGeneration/Masks/test_bmasks.npy')\n",
        "test_target2 = np.load('drive/My Drive/CCTech/MasksGeneration/Masks/test_rmasks.npy')"
      ],
      "execution_count": 2,
      "outputs": []
    },
    {
      "cell_type": "code",
      "metadata": {
        "id": "Z5z1THFm0pA2",
        "colab_type": "code",
        "colab": {
          "base_uri": "https://localhost:8080/",
          "height": 52
        },
        "outputId": "7cf480c4-b95f-46f8-ae2b-6a0f6d644fa7"
      },
      "source": [
        "test_target = []\n",
        "for i in range(len(test_target1)):\n",
        "  a = np.concatenate((test_target1[i],test_target2[i]),axis=-1)\n",
        "  test_target.append(a)\n",
        "print(len(test_target))\n",
        "print(test_target[0].shape)"
      ],
      "execution_count": 3,
      "outputs": [
        {
          "output_type": "stream",
          "text": [
            "53\n",
            "(1, 512, 512, 11)\n"
          ],
          "name": "stdout"
        }
      ]
    },
    {
      "cell_type": "code",
      "metadata": {
        "id": "1hqHzWt90q9n",
        "colab_type": "code",
        "colab": {}
      },
      "source": [
        "np.save('drive/My Drive/CCTech/MasksGeneration/Masks/test_target.npy',test_target)"
      ],
      "execution_count": 4,
      "outputs": []
    },
    {
      "cell_type": "code",
      "metadata": {
        "id": "GKZDIPqw0tKA",
        "colab_type": "code",
        "colab": {}
      },
      "source": [
        ""
      ],
      "execution_count": null,
      "outputs": []
    }
  ]
}